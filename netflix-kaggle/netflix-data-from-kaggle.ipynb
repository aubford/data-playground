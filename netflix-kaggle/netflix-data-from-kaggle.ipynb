{
 "cells": [
  {
   "cell_type": "markdown",
   "metadata": {
    "editable": false
   },
   "source": [
    "# Netflix EDA"
   ]
  },
  {
   "cell_type": "markdown",
   "metadata": {
    "editable": false
   },
   "source": [
    "## Importing Libraries and Dataset"
   ]
  },
  {
   "cell_type": "code",
   "metadata": {
    "ExecuteTime": {
     "end_time": "2024-06-10T05:39:51.355688Z",
     "start_time": "2024-06-10T05:39:50.888245Z"
    }
   },
   "source": [
    "import os\n",
    "import numpy as np\n",
    "import pandas as pd\n",
    "import matplotlib.pyplot as plt\n",
    "import seaborn as sns\n",
    "from pandasai import SmartDataframe\n",
    "from pandasai.llm import OpenAI\n",
    "import warnings\n",
    "from dotenv import load_dotenv\n",
    "\n",
    "warnings.filterwarnings('ignore')\n",
    "\n",
    "load_dotenv()\n",
    "\n",
    "sns.set_style()\n"
   ],
   "outputs": [],
   "execution_count": 2
  },
  {
   "metadata": {
    "ExecuteTime": {
     "end_time": "2024-06-10T15:11:16.356198Z",
     "start_time": "2024-06-10T15:11:15.816916Z"
    }
   },
   "cell_type": "code",
   "source": [
    "netflix_titles_df = pd.read_csv('netflix_titles.csv', encoding='iso-8859-1')\n",
    "api_token = os.getenv('OPEN_AI_API_TOKEN')\n",
    "llm = OpenAI(api_token=api_token)\n",
    "data = SmartDataframe(netflix_titles_df, config={ \"llm\": llm, \"verbose\": True })\n",
    "\n",
    "data.chat(\"what is the shape of the data\")"
   ],
   "outputs": [
    {
     "data": {
      "text/plain": [
       "'The shape of the data is (8809, 26)'"
      ]
     },
     "execution_count": 10,
     "metadata": {},
     "output_type": "execute_result"
    }
   ],
   "execution_count": 10
  },
  {
   "cell_type": "markdown",
   "metadata": {
    "editable": false
   },
   "source": [
    "## Understanding the Data"
   ]
  },
  {
   "metadata": {},
   "cell_type": "code",
   "source": "data.shape",
   "outputs": [],
   "execution_count": null
  },
  {
   "cell_type": "code",
   "metadata": {
    "editable": false,
    "execution": {
     "iopub.execute_input": "2024-06-05T04:48:55.650041Z",
     "iopub.status.busy": "2024-06-05T04:48:55.647935Z",
     "iopub.status.idle": "2024-06-05T04:48:55.660658Z",
     "shell.execute_reply": "2024-06-05T04:48:55.659052Z",
     "shell.execute_reply.started": "2024-06-05T04:48:55.649974Z"
    }
   },
   "source": [
    "data.columns"
   ],
   "outputs": [],
   "execution_count": null
  },
  {
   "cell_type": "code",
   "metadata": {
    "editable": false,
    "execution": {
     "iopub.execute_input": "2024-06-05T04:48:55.664070Z",
     "iopub.status.busy": "2024-06-05T04:48:55.663045Z",
     "iopub.status.idle": "2024-06-05T04:48:55.676867Z",
     "shell.execute_reply": "2024-06-05T04:48:55.675268Z",
     "shell.execute_reply.started": "2024-06-05T04:48:55.664018Z"
    }
   },
   "source": [
    "# Columns from index 12 and afterwards are all Unnamed and Blank columns, so we have removed them in beginning.\n",
    "data.drop(data.columns[12:], axis=1, inplace=True)"
   ],
   "outputs": [],
   "execution_count": null
  },
  {
   "cell_type": "code",
   "metadata": {
    "editable": false,
    "execution": {
     "iopub.execute_input": "2024-06-05T04:48:55.680968Z",
     "iopub.status.busy": "2024-06-05T04:48:55.679765Z",
     "iopub.status.idle": "2024-06-05T04:48:55.728535Z",
     "shell.execute_reply": "2024-06-05T04:48:55.727299Z",
     "shell.execute_reply.started": "2024-06-05T04:48:55.680913Z"
    }
   },
   "source": [
    "data.info()"
   ],
   "outputs": [],
   "execution_count": null
  },
  {
   "cell_type": "code",
   "metadata": {
    "editable": false,
    "execution": {
     "iopub.execute_input": "2024-06-05T04:48:55.731870Z",
     "iopub.status.busy": "2024-06-05T04:48:55.730365Z",
     "iopub.status.idle": "2024-06-05T04:48:55.864819Z",
     "shell.execute_reply": "2024-06-05T04:48:55.863187Z",
     "shell.execute_reply.started": "2024-06-05T04:48:55.731821Z"
    }
   },
   "source": [
    "data.describe(exclude='number').T"
   ],
   "outputs": [],
   "execution_count": null
  },
  {
   "cell_type": "code",
   "metadata": {
    "editable": false,
    "execution": {
     "iopub.execute_input": "2024-06-05T04:48:55.867862Z",
     "iopub.status.busy": "2024-06-05T04:48:55.866922Z",
     "iopub.status.idle": "2024-06-05T04:48:55.899645Z",
     "shell.execute_reply": "2024-06-05T04:48:55.898315Z",
     "shell.execute_reply.started": "2024-06-05T04:48:55.867813Z"
    }
   },
   "source": [
    "data.describe().T"
   ],
   "outputs": [],
   "execution_count": null
  },
  {
   "cell_type": "markdown",
   "metadata": {
    "editable": false
   },
   "source": [
    "## Data Preprocessing"
   ]
  },
  {
   "cell_type": "markdown",
   "metadata": {
    "editable": false
   },
   "source": [
    "### Missing Values"
   ]
  },
  {
   "cell_type": "code",
   "metadata": {
    "editable": false,
    "execution": {
     "iopub.execute_input": "2024-06-05T04:48:55.901842Z",
     "iopub.status.busy": "2024-06-05T04:48:55.901407Z",
     "iopub.status.idle": "2024-06-05T04:48:55.932807Z",
     "shell.execute_reply": "2024-06-05T04:48:55.931307Z",
     "shell.execute_reply.started": "2024-06-05T04:48:55.901804Z"
    }
   },
   "source": [
    "data.isnull().sum() / len(data) * 100"
   ],
   "outputs": [],
   "execution_count": null
  },
  {
   "cell_type": "markdown",
   "metadata": {
    "editable": false
   },
   "source": [
    "*We will first fill missing values of Director, Cast, and Country column with 'Unknown' as it is just not correct to remove them or checking each values over internet.*"
   ]
  },
  {
   "cell_type": "code",
   "metadata": {
    "editable": false,
    "execution": {
     "iopub.execute_input": "2024-06-05T04:48:55.936489Z",
     "iopub.status.busy": "2024-06-05T04:48:55.935230Z",
     "iopub.status.idle": "2024-06-05T04:48:55.962790Z",
     "shell.execute_reply": "2024-06-05T04:48:55.961104Z",
     "shell.execute_reply.started": "2024-06-05T04:48:55.936334Z"
    }
   },
   "source": [
    "data['director'].fillna('Unknown', inplace=True)\n",
    "data['cast'].fillna('Unknown', inplace=True)\n",
    "data['country'].fillna('Unknown', inplace=True)"
   ],
   "outputs": [],
   "execution_count": null
  },
  {
   "cell_type": "code",
   "metadata": {
    "editable": false,
    "execution": {
     "iopub.execute_input": "2024-06-05T04:48:55.967640Z",
     "iopub.status.busy": "2024-06-05T04:48:55.965228Z",
     "iopub.status.idle": "2024-06-05T04:48:56.000741Z",
     "shell.execute_reply": "2024-06-05T04:48:55.998874Z",
     "shell.execute_reply.started": "2024-06-05T04:48:55.967382Z"
    }
   },
   "source": [
    "a = data[data['date_added'].isnull() == True]['release_year'].values\n",
    "\n",
    "for i in range(10):\n",
    "    np.random.seed(42)\n",
    "    data['date_added'].fillna(str(a[i]) + '-' + str(np.random.randint(1, 12)) + '-' + str(np.random.randint(1, 28)),\n",
    "                              inplace=True)"
   ],
   "outputs": [],
   "execution_count": null
  },
  {
   "cell_type": "code",
   "metadata": {
    "editable": false,
    "execution": {
     "iopub.execute_input": "2024-06-05T04:48:56.003723Z",
     "iopub.status.busy": "2024-06-05T04:48:56.003094Z",
     "iopub.status.idle": "2024-06-05T04:48:56.032453Z",
     "shell.execute_reply": "2024-06-05T04:48:56.030985Z",
     "shell.execute_reply.started": "2024-06-05T04:48:56.003663Z"
    }
   },
   "source": [
    "val = ['R', 'TV-MA', 'TV-MA', 'R']\n",
    "for i in range(data['rating'].isnull().sum()):\n",
    "    data['rating'].fillna(val[i], inplace=True)"
   ],
   "outputs": [],
   "execution_count": null
  },
  {
   "cell_type": "code",
   "metadata": {
    "editable": false,
    "execution": {
     "iopub.execute_input": "2024-06-05T04:48:56.039550Z",
     "iopub.status.busy": "2024-06-05T04:48:56.038895Z",
     "iopub.status.idle": "2024-06-05T04:48:56.065184Z",
     "shell.execute_reply": "2024-06-05T04:48:56.063447Z",
     "shell.execute_reply.started": "2024-06-05T04:48:56.039499Z"
    }
   },
   "source": [
    "val = ['74 min', '84 min', '66 min']\n",
    "data[data['duration'].isnull()]['rating'] = 'PG-13'\n",
    "\n",
    "for i in range(data['duration'].isnull().sum()):\n",
    "    data['duration'].fillna(val[i], inplace=True)"
   ],
   "outputs": [],
   "execution_count": null
  },
  {
   "cell_type": "code",
   "metadata": {
    "editable": false,
    "execution": {
     "iopub.execute_input": "2024-06-05T04:48:56.067615Z",
     "iopub.status.busy": "2024-06-05T04:48:56.067151Z",
     "iopub.status.idle": "2024-06-05T04:48:56.107676Z",
     "shell.execute_reply": "2024-06-05T04:48:56.106291Z",
     "shell.execute_reply.started": "2024-06-05T04:48:56.067572Z"
    }
   },
   "source": [
    "data.isnull().sum()"
   ],
   "outputs": [],
   "execution_count": null
  },
  {
   "cell_type": "markdown",
   "metadata": {
    "editable": false
   },
   "source": [
    "### Data Transformation"
   ]
  },
  {
   "cell_type": "code",
   "metadata": {
    "editable": false,
    "execution": {
     "iopub.execute_input": "2024-06-05T04:48:56.109862Z",
     "iopub.status.busy": "2024-06-05T04:48:56.109463Z",
     "iopub.status.idle": "2024-06-05T04:48:56.352201Z",
     "shell.execute_reply": "2024-06-05T04:48:56.350937Z",
     "shell.execute_reply.started": "2024-06-05T04:48:56.109829Z"
    }
   },
   "source": [
    "data['date_added'] = pd.to_datetime(data['date_added'], format='mixed')\n",
    "data['year_added'] = data['date_added'].dt.year"
   ],
   "outputs": [],
   "execution_count": null
  },
  {
   "cell_type": "code",
   "metadata": {
    "editable": false,
    "execution": {
     "iopub.execute_input": "2024-06-05T04:48:56.354161Z",
     "iopub.status.busy": "2024-06-05T04:48:56.353748Z",
     "iopub.status.idle": "2024-06-05T04:48:56.385182Z",
     "shell.execute_reply": "2024-06-05T04:48:56.383661Z",
     "shell.execute_reply.started": "2024-06-05T04:48:56.354096Z"
    }
   },
   "source": [
    "data.info()"
   ],
   "outputs": [],
   "execution_count": null
  },
  {
   "cell_type": "markdown",
   "metadata": {
    "editable": false
   },
   "source": [
    "## Data Visualization"
   ]
  },
  {
   "cell_type": "code",
   "metadata": {
    "editable": false,
    "execution": {
     "iopub.execute_input": "2024-06-05T04:48:56.387345Z",
     "iopub.status.busy": "2024-06-05T04:48:56.386892Z",
     "iopub.status.idle": "2024-06-05T04:48:56.396919Z",
     "shell.execute_reply": "2024-06-05T04:48:56.395451Z",
     "shell.execute_reply.started": "2024-06-05T04:48:56.387298Z"
    }
   },
   "source": [
    "def countplot(col, label, title, rotation=0, size=(12, 6)):\n",
    "    plt.figure(figsize=size)\n",
    "    plt.title(title, fontsize=20)\n",
    "    ax = sns.countplot(x=data[col], palette='viridis')\n",
    "    ax.set_xlabel(label, fontsize=16)\n",
    "    plt.xticks(rotation=rotation)\n",
    "    ax.set_ylabel('Count', fontsize=16)\n",
    "    for lab in ax.containers:\n",
    "        ax.bar_label(lab)"
   ],
   "outputs": [],
   "execution_count": null
  },
  {
   "cell_type": "code",
   "metadata": {
    "editable": false,
    "execution": {
     "iopub.execute_input": "2024-06-05T04:48:56.399370Z",
     "iopub.status.busy": "2024-06-05T04:48:56.398789Z",
     "iopub.status.idle": "2024-06-05T04:48:56.965721Z",
     "shell.execute_reply": "2024-06-05T04:48:56.964209Z",
     "shell.execute_reply.started": "2024-06-05T04:48:56.399323Z"
    }
   },
   "source": [
    "countplot('type', 'Type', 'Distribution of Content Type')"
   ],
   "outputs": [],
   "execution_count": null
  },
  {
   "cell_type": "code",
   "metadata": {
    "editable": false,
    "execution": {
     "iopub.execute_input": "2024-06-05T04:48:56.968319Z",
     "iopub.status.busy": "2024-06-05T04:48:56.967842Z",
     "iopub.status.idle": "2024-06-05T04:48:57.614295Z",
     "shell.execute_reply": "2024-06-05T04:48:57.612790Z",
     "shell.execute_reply.started": "2024-06-05T04:48:56.968277Z"
    }
   },
   "source": [
    "countplot('rating', 'Rating', 'Distribution based on Rating', rotation=90)"
   ],
   "outputs": [],
   "execution_count": null
  },
  {
   "cell_type": "code",
   "metadata": {
    "editable": false,
    "execution": {
     "iopub.execute_input": "2024-06-05T04:48:57.616597Z",
     "iopub.status.busy": "2024-06-05T04:48:57.616057Z",
     "iopub.status.idle": "2024-06-05T04:48:58.294675Z",
     "shell.execute_reply": "2024-06-05T04:48:58.293241Z",
     "shell.execute_reply.started": "2024-06-05T04:48:57.616548Z"
    }
   },
   "source": [
    "top_10_country = data['country'].value_counts().head(11)\n",
    "top_10_country.drop('Unknown')\n",
    "plt.figure(figsize=(12, 6))\n",
    "plt.title('Top 10 Countries by Content Produced', fontsize=20)\n",
    "ax = sns.barplot(x=top_10_country.index, y=top_10_country, palette='viridis')\n",
    "plt.xlabel('Top 10 Countries', fontsize=16)\n",
    "plt.xticks(rotation=45)\n",
    "plt.ylabel('Count', fontsize=16)\n",
    "for lab in ax.containers:\n",
    "    ax.bar_label(lab)"
   ],
   "outputs": [],
   "execution_count": null
  },
  {
   "cell_type": "code",
   "metadata": {
    "editable": false,
    "execution": {
     "iopub.execute_input": "2024-06-05T04:48:58.297340Z",
     "iopub.status.busy": "2024-06-05T04:48:58.296768Z",
     "iopub.status.idle": "2024-06-05T04:48:58.877256Z",
     "shell.execute_reply": "2024-06-05T04:48:58.875838Z",
     "shell.execute_reply.started": "2024-06-05T04:48:58.297288Z"
    }
   },
   "source": [
    "top_10_country = data[data['type'] == 'Movie']['country'].value_counts().head(11)\n",
    "top_10_country = top_10_country.drop('Unknown')\n",
    "plt.figure(figsize=(12, 6))\n",
    "plt.title('Top 10 Coutries by Movies Produced', fontsize=20)\n",
    "ax = sns.barplot(x=top_10_country.index, y=top_10_country, palette='viridis')\n",
    "plt.xlabel('Top 10 Countries', fontsize=16)\n",
    "plt.xticks(rotation=45)\n",
    "plt.ylabel('Count', fontsize=16)\n",
    "for lab in ax.containers:\n",
    "    ax.bar_label(lab)"
   ],
   "outputs": [],
   "execution_count": null
  },
  {
   "cell_type": "code",
   "metadata": {
    "editable": false,
    "execution": {
     "iopub.execute_input": "2024-06-05T04:48:58.880387Z",
     "iopub.status.busy": "2024-06-05T04:48:58.879768Z",
     "iopub.status.idle": "2024-06-05T04:48:59.434880Z",
     "shell.execute_reply": "2024-06-05T04:48:59.433394Z",
     "shell.execute_reply.started": "2024-06-05T04:48:58.880328Z"
    }
   },
   "source": [
    "top_10_country = data[data['type'] == 'TV Show']['country'].value_counts().head(11)\n",
    "top_10_country = top_10_country.drop('Unknown')\n",
    "plt.figure(figsize=(12, 6))\n",
    "plt.title('Top 10 Coutries by TV Shows Created', fontsize=20)\n",
    "ax = sns.barplot(x=top_10_country.index, y=top_10_country, palette='viridis')\n",
    "plt.xlabel('Top 10 Countries', fontsize=16)\n",
    "plt.xticks(rotation=45)\n",
    "plt.ylabel('Count', fontsize=16)\n",
    "for lab in ax.containers:\n",
    "    ax.bar_label(lab)"
   ],
   "outputs": [],
   "execution_count": null
  },
  {
   "cell_type": "code",
   "metadata": {
    "editable": false,
    "execution": {
     "iopub.execute_input": "2024-06-05T04:48:59.437366Z",
     "iopub.status.busy": "2024-06-05T04:48:59.436954Z",
     "iopub.status.idle": "2024-06-05T04:48:59.954068Z",
     "shell.execute_reply": "2024-06-05T04:48:59.952392Z",
     "shell.execute_reply.started": "2024-06-05T04:48:59.437329Z"
    }
   },
   "source": [
    "content_type = data.groupby(['release_year', 'type']).size().unstack(fill_value=0)\n",
    "content_type['Total'] = content_type['Movie'] + content_type['TV Show']\n",
    "content_type = content_type.reset_index()\n",
    "\n",
    "plt.figure(figsize=(18, 6))\n",
    "plt.title('Movie, TV Shows and Total Released Each Year', fontsize=20)\n",
    "plt.plot(content_type['release_year'], content_type['Movie'], label='Movie', color='r', alpha=0.5)\n",
    "plt.plot(content_type['release_year'], content_type['TV Show'], label='TV Show', color='g', alpha=0.5)\n",
    "plt.plot(content_type['release_year'], content_type['Total'], label='Total', color='b', alpha=0.5)\n",
    "plt.xlabel('Release Year', fontsize=16)\n",
    "plt.ylabel('Count', fontsize=16)\n",
    "plt.legend(loc='upper left')"
   ],
   "outputs": [],
   "execution_count": null
  },
  {
   "cell_type": "code",
   "metadata": {
    "editable": false,
    "execution": {
     "iopub.execute_input": "2024-06-05T04:48:59.956885Z",
     "iopub.status.busy": "2024-06-05T04:48:59.956330Z",
     "iopub.status.idle": "2024-06-05T04:49:00.846455Z",
     "shell.execute_reply": "2024-06-05T04:49:00.844651Z",
     "shell.execute_reply.started": "2024-06-05T04:48:59.956838Z"
    }
   },
   "source": [
    "shows_added = data.groupby(['year_added', 'type']).size().unstack(fill_value=0)\n",
    "shows_added = shows_added.reset_index()\n",
    "shows_added = shows_added.melt(id_vars='year_added', var_name='Type', value_name='Count')\n",
    "\n",
    "plt.figure(figsize=(24, 6))\n",
    "plt.title('Content Added to Netflix by Year and Content Type', fontsize=20)\n",
    "ax = sns.barplot(x=shows_added['year_added'], y=shows_added['Count'], hue=shows_added['Type'], palette='viridis')\n",
    "plt.xlabel('Year Content Added to Netflix', fontsize=16)\n",
    "plt.xticks(rotation=45)\n",
    "plt.ylabel('Count', fontsize=16)\n",
    "for lab in ax.containers:\n",
    "    ax.bar_label(lab)"
   ],
   "outputs": [],
   "execution_count": null
  },
  {
   "cell_type": "code",
   "metadata": {
    "editable": false,
    "execution": {
     "iopub.execute_input": "2024-06-05T04:49:00.849088Z",
     "iopub.status.busy": "2024-06-05T04:49:00.848537Z",
     "iopub.status.idle": "2024-06-05T04:49:01.928818Z",
     "shell.execute_reply": "2024-06-05T04:49:01.927245Z",
     "shell.execute_reply.started": "2024-06-05T04:49:00.849042Z"
    }
   },
   "source": [
    "movies = data[data['type'] == 'Movie']\n",
    "movies['duration'] = movies['duration'].str.replace(' min', '').astype(int)\n",
    "avg_duration = round(np.mean(movies['duration']), 2)\n",
    "\n",
    "plt.figure(figsize=(12, 6))\n",
    "plt.title('Movies Duration on Netflix', fontsize=20)\n",
    "sns.histplot(movies['duration'], kde=True)\n",
    "plt.axvline(x=avg_duration, color='#ff006e', linestyle='--', label=f'Average Duration: {avg_duration:.2f} min')\n",
    "plt.xlabel('Movie Duration', fontsize=16)\n",
    "plt.ylabel('Movie Count', fontsize=16)\n",
    "plt.legend()\n",
    "plt.grid(True, linestyle='--', alpha=0.6)\n",
    "plt.tight_layout()"
   ],
   "outputs": [],
   "execution_count": null
  },
  {
   "cell_type": "code",
   "metadata": {
    "editable": false,
    "execution": {
     "iopub.execute_input": "2024-06-05T04:49:01.931035Z",
     "iopub.status.busy": "2024-06-05T04:49:01.930620Z",
     "iopub.status.idle": "2024-06-05T04:49:02.634496Z",
     "shell.execute_reply": "2024-06-05T04:49:02.633048Z",
     "shell.execute_reply.started": "2024-06-05T04:49:01.931000Z"
    }
   },
   "source": [
    "shows = data[data['type'] == 'TV Show']\n",
    "shows['duration'] = shows['duration'].str.extract('(\\d+)').astype(int)\n",
    "avg_show_duration = round(np.mean(shows['duration']), 2)\n",
    "\n",
    "plt.figure(figsize=(12, 6))\n",
    "plt.title('TV Shows Duration on Netflix', fontsize=16)\n",
    "sns.histplot(shows['duration'], bins=20, color='midnightblue')\n",
    "plt.axvline(x=avg_show_duration, color='#ff006e', linestyle='--',\n",
    "            label=f'Average Duration: {avg_show_duration:.2f} Seasons')\n",
    "plt.xlabel('TV Show Duration', fontsize=16)\n",
    "plt.ylabel('TV Show Count', fontsize=16)\n",
    "plt.legend()\n",
    "plt.grid(True, linestyle='--', alpha=0.6)\n",
    "plt.tight_layout()"
   ],
   "outputs": [],
   "execution_count": null
  },
  {
   "cell_type": "code",
   "metadata": {
    "editable": false,
    "execution": {
     "iopub.execute_input": "2024-06-05T04:49:02.636508Z",
     "iopub.status.busy": "2024-06-05T04:49:02.636055Z",
     "iopub.status.idle": "2024-06-05T04:49:03.177337Z",
     "shell.execute_reply": "2024-06-05T04:49:03.176016Z",
     "shell.execute_reply.started": "2024-06-05T04:49:02.636463Z"
    }
   },
   "source": [
    "top_genre = data['listed_in'].value_counts().head(10)\n",
    "\n",
    "plt.figure(figsize=(12, 6))\n",
    "plt.title('Top 10 Genre', fontsize=20)\n",
    "ax = sns.barplot(y=top_genre.index, x=top_genre, palette='viridis')\n",
    "plt.xlabel('Count', fontsize=16)\n",
    "plt.ylabel('Genre', fontsize=16)\n",
    "for lab in ax.containers:\n",
    "    ax.bar_label(lab)"
   ],
   "outputs": [],
   "execution_count": null
  },
  {
   "cell_type": "markdown",
   "metadata": {
    "editable": false
   },
   "source": [
    "## Report"
   ]
  },
  {
   "cell_type": "markdown",
   "metadata": {
    "editable": false
   },
   "source": [
    "1. The dataset has 8809 rows and 26 columns of data. Out of those 26 columns 14 are totally blank and unncessary for the analysis. So we have removed them first.\n",
    "\n",
    "2. Now we have 12 columns which has one `integer` and rest are `object/string` type.\n",
    "\n",
    "3. We do have a lot of missing values in the dataset.\n",
    "\n",
    "    a. Director has 30% data missing which have been filled with 'Unknown'.\n",
    "\n",
    "    b. Cast and Country has 9% data missing which is also replaced by 'Unknown'.\n",
    "\n",
    "    c. Date Added has 0.12% data missing which I have filled using a combination of `release_year` for year and random values for month and date.\n",
    "\n",
    "    d. Rating has only 4 missing values which is filled as per the type of mode value of the content they are.\n",
    "    \n",
    "    e. Duration has 3 missing values and those are misplaced in `rating` column so I've taken those from rating fill in duration and then also fill the rating column.\n",
    "4. We have `date_added` column has object data type so I converted it into datetime data type. After that I've created a column `year_added` from the date_added column.\n",
    "5. The content type on Netflix data is more on Movies side, which is more than double of TV Shows.\n",
    "6. Our top movie rating is 'R' with 799 movies and 'TV-MA' for tv shows with 3208 shows under the rating.\n",
    "7. USA is our top country in content production with India being on second postion, but the difference is very high or almost 3 times of content produced from India on netflix.\n",
    "8. Breaking down further India is second country from Netflix adopt movies but UK becomes second for TV-show adoption, while USA keeps its position for both Movies and TV-shows.\n",
    "9. We have data for content from release year of 1940 but the most of the movies adopted by netflix released after 1990, whereas tv-shows adoption comes in trend after 2005.\n",
    "10. The highest content adopted by netflix comes from 2019. In that year netflix adopted 1424 movies and 592 tv-shows.\n",
    "11. Most of the movies on netflix have a duration between 70 min to 120 min but the avearge of movie duration is 100 min.\n",
    "12. TV-shows comes in seasons and they are maximum 1 season long but we do have 17 seasons long tv-show too.\n",
    "13. Drams & Internation Movies, Documentary, and Stand Up Comedy are top three genres which have more than 300 content under its belt."
   ]
  },
  {
   "cell_type": "markdown",
   "metadata": {
    "editable": false
   },
   "source": [
    "***This concludes our report on Netflix Exploratory Data Analysis. Please upvote the notebook and if you have any suggestion or question please let me know.***"
   ]
  }
 ],
 "metadata": {
  "kaggle": {
   "accelerator": "gpu",
   "dataSources": [
    {
     "datasetId": 4769773,
     "sourceId": 8081202,
     "sourceType": "datasetVersion"
    }
   ],
   "dockerImageVersionId": 30698,
   "isGpuEnabled": true,
   "isInternetEnabled": false,
   "language": "python",
   "sourceType": "notebook"
  },
  "kernelspec": {
   "display_name": "Python 3 (ipykernel)",
   "language": "python",
   "name": "python3"
  },
  "language_info": {
   "codemirror_mode": {
    "name": "ipython",
    "version": 3
   },
   "file_extension": ".py",
   "mimetype": "text/x-python",
   "name": "python",
   "nbconvert_exporter": "python",
   "pygments_lexer": "ipython3",
   "version": "3.9.6"
  }
 },
 "nbformat": 4,
 "nbformat_minor": 4
}
