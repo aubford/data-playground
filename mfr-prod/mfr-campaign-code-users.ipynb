{
 "cells": [
  {
   "cell_type": "code",
   "metadata": {},
   "source": [
    "import os\n",
    "import numpy as np\n",
    "import pandas as pd\n",
    "import matplotlib.pyplot as plt\n",
    "import seaborn as sns\n",
    "import warnings\n",
    "from dotenv import load_dotenv\n",
    "\n",
    "print(pd.__version__)\n",
    "warnings.filterwarnings('ignore')\n",
    "load_dotenv()\n",
    "sns.set_style()"
   ],
   "outputs": [],
   "execution_count": null
  },
  {
   "cell_type": "code",
   "metadata": {},
   "source": [
    "data = pd.read_csv('enrollment_code_introspect.csv', encoding='iso-8859-1')\n",
    "data.head()\n",
    "\n"
   ],
   "outputs": [],
   "execution_count": null
  },
  {
   "cell_type": "code",
   "metadata": {},
   "source": [
    "data.shape"
   ],
   "outputs": [],
   "execution_count": null
  },
  {
   "cell_type": "code",
   "metadata": {},
   "source": [
    "data.columns"
   ],
   "outputs": [],
   "execution_count": null
  },
  {
   "cell_type": "markdown",
   "metadata": {},
   "source": [
    "## Remove test data organization"
   ]
  },
  {
   "cell_type": "code",
   "metadata": {},
   "source": [
    "data['organization_name'].value_counts()"
   ],
   "outputs": [],
   "execution_count": null
  },
  {
   "cell_type": "code",
   "metadata": {},
   "source": [
    "data = data[data['organization_name'] != \"Â¡TEST! Data Organization\"]\n",
    "data['organization_name'].value_counts()"
   ],
   "outputs": [],
   "execution_count": null
  },
  {
   "cell_type": "markdown",
   "metadata": {},
   "source": [
    "## Merge protocols into single column"
   ]
  },
  {
   "cell_type": "code",
   "metadata": {},
   "source": [
    "def create_protocol_column(row):\n",
    "    protocols = []\n",
    "    fields = ['is_ftm', 'is_cfa', 'is_carnmpp', 'is_comet', 'is_nerp']\n",
    "    for field in fields:\n",
    "        if row[field]:\n",
    "            protocols.append(field)\n",
    "    return ', '.join(protocols)\n",
    "\n",
    "data['protocol'] = data.apply(create_protocol_column, axis=1)\n",
    "\n",
    "data.describe(exclude='number').T\n",
    "\n",
    "protocol_counts = data['protocol'].value_counts()\n",
    "protocol_counts"
   ],
   "outputs": [],
   "execution_count": null
  },
  {
   "cell_type": "markdown",
   "metadata": {},
   "source": [
    "## Drop cruft columns"
   ]
  },
  {
   "cell_type": "code",
   "metadata": {},
   "source": [
    "null_columns = data.columns[data.isnull().all()]\n",
    "print(null_columns)\n"
   ],
   "outputs": [],
   "execution_count": null
  },
  {
   "cell_type": "code",
   "metadata": {},
   "source": [
    "columns_to_remove = ['is_ftm', 'is_cfa', 'is_carnmpp', 'is_comet', 'is_nerp', 'region_boundary', 'parent_region_boundary', 'parent_organization_name', 'campaign_kind']\n",
    "data.drop(columns=columns_to_remove + list(null_columns), inplace=True)\n",
    "\n",
    "data.head()"
   ],
   "outputs": [],
   "execution_count": null
  },
  {
   "cell_type": "markdown",
   "metadata": {},
   "source": [
    "## Data info"
   ]
  },
  {
   "cell_type": "code",
   "metadata": {},
   "source": [
    "data.describe(exclude='number').T.assign(non_null_counts=data.count())"
   ],
   "outputs": [],
   "execution_count": null
  },
  {
   "cell_type": "markdown",
   "metadata": {},
   "source": [
    "## Regions"
   ]
  },
  {
   "cell_type": "code",
   "metadata": {},
   "source": [
    "pd.set_option('display.max_rows', None)\n",
    "region_counts = data['region_name'].value_counts(dropna=False)\n",
    "print(region_counts)\n"
   ],
   "outputs": [],
   "execution_count": null
  },
  {
   "cell_type": "markdown",
   "metadata": {},
   "source": [
    "### Parent regions (most don't have parent regions)"
   ]
  },
  {
   "cell_type": "code",
   "metadata": {},
   "source": [
    "parent_region_counts = data['parent_region_name'].value_counts()\n",
    "\n",
    "for parent_region, count in parent_region_counts.items():\n",
    "    if count > 8:\n",
    "        print(f\"{parent_region}: {count}\")\n",
    "        region_counts = data[data['parent_region_name'] == parent_region]['region_name'].value_counts()\n",
    "        for region, region_count in region_counts.items():\n",
    "            print(f\"    {region}: {region_count}\")\n",
    "    else:\n",
    "        print(f\"{parent_region}: {count}\")\n",
    "            \n",
    "\n"
   ],
   "outputs": [],
   "execution_count": null
  },
  {
   "cell_type": "code",
   "metadata": {},
   "source": [
    "# Sort rows by 'protocol' and then by 'campaign_name'. Sort in place and return all columns.\n",
    "data.sort_values(by=['protocol', 'campaign_name'], inplace=True)\n",
    "# Reset the index\n",
    "data.reset_index(drop=True, inplace=True)\n",
    "\n",
    "# Move 'protocol' column to the first position and 'campaign_name' to the second position\n",
    "cols = ['protocol', 'campaign_name'] + [col for col in data.columns if col not in ['protocol', 'campaign_name']]\n",
    "data = data[cols]\n",
    "data.to_csv('cleaned_data.csv')\n",
    "\n",
    "\n"
   ],
   "outputs": [],
   "execution_count": null
  }
 ],
 "metadata": {
  "kernelspec": {
   "display_name": ".venv",
   "language": "python",
   "name": "python3"
  },
  "language_info": {
   "codemirror_mode": {
    "name": "ipython",
    "version": 3
   },
   "file_extension": ".py",
   "mimetype": "text/x-python",
   "name": "python",
   "nbconvert_exporter": "python",
   "pygments_lexer": "ipython3",
   "version": "3.12.0"
  }
 },
 "nbformat": 4,
 "nbformat_minor": 2
}
