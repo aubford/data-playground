{
 "metadata": {
  "kernelspec": {
   "display_name": "Python 3",
   "language": "python",
   "name": "python3"
  },
  "language_info": {
   "name": "python",
   "version": "3.10.13",
   "mimetype": "text/x-python",
   "codemirror_mode": {
    "name": "ipython",
    "version": 3
   },
   "pygments_lexer": "ipython3",
   "nbconvert_exporter": "python",
   "file_extension": ".py"
  },
  "kaggle": {
   "accelerator": "gpu",
   "dataSources": [
    {
     "sourceId": 8081202,
     "sourceType": "datasetVersion",
     "datasetId": 4769773
    }
   ],
   "dockerImageVersionId": 30698,
   "isInternetEnabled": false,
   "language": "python",
   "sourceType": "notebook",
   "isGpuEnabled": true
  }
 },
 "nbformat_minor": 4,
 "nbformat": 4,
 "cells": [
  {
   "cell_type": "markdown",
   "source": "# Netflix EDA",
   "metadata": {
    "editable": false
   }
  },
  {
   "cell_type": "markdown",
   "source": "## Importing Libraries and Dataset",
   "metadata": {
    "editable": false
   }
  },
  {
   "cell_type": "code",
   "source": "import numpy as np\nimport pandas as pd\nimport matplotlib.pyplot as plt\nimport seaborn as sns\n\nimport warnings\nwarnings.filterwarnings('ignore')\n\nsns.set_style()",
   "metadata": {
    "editable": false,
    "execution": {
     "iopub.status.busy": "2024-06-05T04:48:52.256064Z",
     "iopub.execute_input": "2024-06-05T04:48:52.256573Z",
     "iopub.status.idle": "2024-06-05T04:48:55.380513Z",
     "shell.execute_reply.started": "2024-06-05T04:48:52.256539Z",
     "shell.execute_reply": "2024-06-05T04:48:55.378951Z"
    },
    "trusted": true,
    "ExecuteTime": {
     "end_time": "2024-06-06T01:35:01.619411Z",
     "start_time": "2024-06-06T01:35:01.617809Z"
    }
   },
   "outputs": [],
   "execution_count": 1
  },
  {
   "cell_type": "code",
   "source": [
    "data = pd.read_csv('./netflix_titles.csv', encoding='iso-8859-1')\n",
    "data.head()"
   ],
   "metadata": {
    "editable": false,
    "execution": {
     "iopub.status.busy": "2024-06-05T04:48:55.383768Z",
     "iopub.execute_input": "2024-06-05T04:48:55.384416Z",
     "iopub.status.idle": "2024-06-05T04:48:55.625328Z",
     "shell.execute_reply.started": "2024-06-05T04:48:55.384374Z",
     "shell.execute_reply": "2024-06-05T04:48:55.623747Z"
    },
    "trusted": true,
    "ExecuteTime": {
     "end_time": "2024-06-06T01:35:01.677553Z",
     "start_time": "2024-06-06T01:35:01.619989Z"
    }
   },
   "outputs": [
    {
     "data": {
      "text/plain": [
       "  show_id     type                  title         director  \\\n",
       "0      s1    Movie   Dick Johnson Is Dead  Kirsten Johnson   \n",
       "1      s2  TV Show          Blood & Water              NaN   \n",
       "2      s3  TV Show              Ganglands  Julien Leclercq   \n",
       "3      s4  TV Show  Jailbirds New Orleans              NaN   \n",
       "4      s5  TV Show           Kota Factory              NaN   \n",
       "\n",
       "                                                cast        country  \\\n",
       "0                                                NaN  United States   \n",
       "1  Ama Qamata, Khosi Ngema, Gail Mabalane, Thaban...   South Africa   \n",
       "2  Sami Bouajila, Tracy Gotoas, Samuel Jouy, Nabi...            NaN   \n",
       "3                                                NaN            NaN   \n",
       "4  Mayur More, Jitendra Kumar, Ranjan Raj, Alam K...          India   \n",
       "\n",
       "           date_added  release_year rating   duration  ... Unnamed: 16  \\\n",
       "0  September 25, 2021          2020  PG-13     90 min  ...         NaN   \n",
       "1  September 24, 2021          2021  TV-MA  2 Seasons  ...         NaN   \n",
       "2  September 24, 2021          2021  TV-MA   1 Season  ...         NaN   \n",
       "3  September 24, 2021          2021  TV-MA   1 Season  ...         NaN   \n",
       "4  September 24, 2021          2021  TV-MA  2 Seasons  ...         NaN   \n",
       "\n",
       "  Unnamed: 17  Unnamed: 18  Unnamed: 19  Unnamed: 20  Unnamed: 21  \\\n",
       "0         NaN          NaN          NaN          NaN          NaN   \n",
       "1         NaN          NaN          NaN          NaN          NaN   \n",
       "2         NaN          NaN          NaN          NaN          NaN   \n",
       "3         NaN          NaN          NaN          NaN          NaN   \n",
       "4         NaN          NaN          NaN          NaN          NaN   \n",
       "\n",
       "   Unnamed: 22  Unnamed: 23  Unnamed: 24  Unnamed: 25  \n",
       "0          NaN          NaN          NaN          NaN  \n",
       "1          NaN          NaN          NaN          NaN  \n",
       "2          NaN          NaN          NaN          NaN  \n",
       "3          NaN          NaN          NaN          NaN  \n",
       "4          NaN          NaN          NaN          NaN  \n",
       "\n",
       "[5 rows x 26 columns]"
      ],
      "text/html": [
       "<div>\n",
       "<style scoped>\n",
       "    .dataframe tbody tr th:only-of-type {\n",
       "        vertical-align: middle;\n",
       "    }\n",
       "\n",
       "    .dataframe tbody tr th {\n",
       "        vertical-align: top;\n",
       "    }\n",
       "\n",
       "    .dataframe thead th {\n",
       "        text-align: right;\n",
       "    }\n",
       "</style>\n",
       "<table border=\"1\" class=\"dataframe\">\n",
       "  <thead>\n",
       "    <tr style=\"text-align: right;\">\n",
       "      <th></th>\n",
       "      <th>show_id</th>\n",
       "      <th>type</th>\n",
       "      <th>title</th>\n",
       "      <th>director</th>\n",
       "      <th>cast</th>\n",
       "      <th>country</th>\n",
       "      <th>date_added</th>\n",
       "      <th>release_year</th>\n",
       "      <th>rating</th>\n",
       "      <th>duration</th>\n",
       "      <th>...</th>\n",
       "      <th>Unnamed: 16</th>\n",
       "      <th>Unnamed: 17</th>\n",
       "      <th>Unnamed: 18</th>\n",
       "      <th>Unnamed: 19</th>\n",
       "      <th>Unnamed: 20</th>\n",
       "      <th>Unnamed: 21</th>\n",
       "      <th>Unnamed: 22</th>\n",
       "      <th>Unnamed: 23</th>\n",
       "      <th>Unnamed: 24</th>\n",
       "      <th>Unnamed: 25</th>\n",
       "    </tr>\n",
       "  </thead>\n",
       "  <tbody>\n",
       "    <tr>\n",
       "      <th>0</th>\n",
       "      <td>s1</td>\n",
       "      <td>Movie</td>\n",
       "      <td>Dick Johnson Is Dead</td>\n",
       "      <td>Kirsten Johnson</td>\n",
       "      <td>NaN</td>\n",
       "      <td>United States</td>\n",
       "      <td>September 25, 2021</td>\n",
       "      <td>2020</td>\n",
       "      <td>PG-13</td>\n",
       "      <td>90 min</td>\n",
       "      <td>...</td>\n",
       "      <td>NaN</td>\n",
       "      <td>NaN</td>\n",
       "      <td>NaN</td>\n",
       "      <td>NaN</td>\n",
       "      <td>NaN</td>\n",
       "      <td>NaN</td>\n",
       "      <td>NaN</td>\n",
       "      <td>NaN</td>\n",
       "      <td>NaN</td>\n",
       "      <td>NaN</td>\n",
       "    </tr>\n",
       "    <tr>\n",
       "      <th>1</th>\n",
       "      <td>s2</td>\n",
       "      <td>TV Show</td>\n",
       "      <td>Blood &amp; Water</td>\n",
       "      <td>NaN</td>\n",
       "      <td>Ama Qamata, Khosi Ngema, Gail Mabalane, Thaban...</td>\n",
       "      <td>South Africa</td>\n",
       "      <td>September 24, 2021</td>\n",
       "      <td>2021</td>\n",
       "      <td>TV-MA</td>\n",
       "      <td>2 Seasons</td>\n",
       "      <td>...</td>\n",
       "      <td>NaN</td>\n",
       "      <td>NaN</td>\n",
       "      <td>NaN</td>\n",
       "      <td>NaN</td>\n",
       "      <td>NaN</td>\n",
       "      <td>NaN</td>\n",
       "      <td>NaN</td>\n",
       "      <td>NaN</td>\n",
       "      <td>NaN</td>\n",
       "      <td>NaN</td>\n",
       "    </tr>\n",
       "    <tr>\n",
       "      <th>2</th>\n",
       "      <td>s3</td>\n",
       "      <td>TV Show</td>\n",
       "      <td>Ganglands</td>\n",
       "      <td>Julien Leclercq</td>\n",
       "      <td>Sami Bouajila, Tracy Gotoas, Samuel Jouy, Nabi...</td>\n",
       "      <td>NaN</td>\n",
       "      <td>September 24, 2021</td>\n",
       "      <td>2021</td>\n",
       "      <td>TV-MA</td>\n",
       "      <td>1 Season</td>\n",
       "      <td>...</td>\n",
       "      <td>NaN</td>\n",
       "      <td>NaN</td>\n",
       "      <td>NaN</td>\n",
       "      <td>NaN</td>\n",
       "      <td>NaN</td>\n",
       "      <td>NaN</td>\n",
       "      <td>NaN</td>\n",
       "      <td>NaN</td>\n",
       "      <td>NaN</td>\n",
       "      <td>NaN</td>\n",
       "    </tr>\n",
       "    <tr>\n",
       "      <th>3</th>\n",
       "      <td>s4</td>\n",
       "      <td>TV Show</td>\n",
       "      <td>Jailbirds New Orleans</td>\n",
       "      <td>NaN</td>\n",
       "      <td>NaN</td>\n",
       "      <td>NaN</td>\n",
       "      <td>September 24, 2021</td>\n",
       "      <td>2021</td>\n",
       "      <td>TV-MA</td>\n",
       "      <td>1 Season</td>\n",
       "      <td>...</td>\n",
       "      <td>NaN</td>\n",
       "      <td>NaN</td>\n",
       "      <td>NaN</td>\n",
       "      <td>NaN</td>\n",
       "      <td>NaN</td>\n",
       "      <td>NaN</td>\n",
       "      <td>NaN</td>\n",
       "      <td>NaN</td>\n",
       "      <td>NaN</td>\n",
       "      <td>NaN</td>\n",
       "    </tr>\n",
       "    <tr>\n",
       "      <th>4</th>\n",
       "      <td>s5</td>\n",
       "      <td>TV Show</td>\n",
       "      <td>Kota Factory</td>\n",
       "      <td>NaN</td>\n",
       "      <td>Mayur More, Jitendra Kumar, Ranjan Raj, Alam K...</td>\n",
       "      <td>India</td>\n",
       "      <td>September 24, 2021</td>\n",
       "      <td>2021</td>\n",
       "      <td>TV-MA</td>\n",
       "      <td>2 Seasons</td>\n",
       "      <td>...</td>\n",
       "      <td>NaN</td>\n",
       "      <td>NaN</td>\n",
       "      <td>NaN</td>\n",
       "      <td>NaN</td>\n",
       "      <td>NaN</td>\n",
       "      <td>NaN</td>\n",
       "      <td>NaN</td>\n",
       "      <td>NaN</td>\n",
       "      <td>NaN</td>\n",
       "      <td>NaN</td>\n",
       "    </tr>\n",
       "  </tbody>\n",
       "</table>\n",
       "<p>5 rows × 26 columns</p>\n",
       "</div>"
      ]
     },
     "execution_count": 2,
     "metadata": {},
     "output_type": "execute_result"
    }
   ],
   "execution_count": 2
  },
  {
   "cell_type": "markdown",
   "source": "## Understanding the Data",
   "metadata": {
    "editable": false
   }
  },
  {
   "cell_type": "code",
   "source": "data.shape",
   "metadata": {
    "editable": false,
    "execution": {
     "iopub.status.busy": "2024-06-05T04:48:55.632554Z",
     "iopub.execute_input": "2024-06-05T04:48:55.633035Z",
     "iopub.status.idle": "2024-06-05T04:48:55.642851Z",
     "shell.execute_reply.started": "2024-06-05T04:48:55.632995Z",
     "shell.execute_reply": "2024-06-05T04:48:55.641436Z"
    },
    "trusted": true,
    "ExecuteTime": {
     "end_time": "2024-06-06T01:35:01.681698Z",
     "start_time": "2024-06-06T01:35:01.678383Z"
    }
   },
   "outputs": [
    {
     "data": {
      "text/plain": [
       "(8809, 26)"
      ]
     },
     "execution_count": 3,
     "metadata": {},
     "output_type": "execute_result"
    }
   ],
   "execution_count": 3
  },
  {
   "cell_type": "code",
   "source": "data.columns",
   "metadata": {
    "editable": false,
    "execution": {
     "iopub.status.busy": "2024-06-05T04:48:55.647935Z",
     "iopub.execute_input": "2024-06-05T04:48:55.650041Z",
     "iopub.status.idle": "2024-06-05T04:48:55.660658Z",
     "shell.execute_reply.started": "2024-06-05T04:48:55.649974Z",
     "shell.execute_reply": "2024-06-05T04:48:55.659052Z"
    },
    "trusted": true,
    "ExecuteTime": {
     "end_time": "2024-06-06T01:35:01.685579Z",
     "start_time": "2024-06-06T01:35:01.682496Z"
    }
   },
   "outputs": [
    {
     "data": {
      "text/plain": [
       "Index(['show_id', 'type', 'title', 'director', 'cast', 'country', 'date_added',\n",
       "       'release_year', 'rating', 'duration', 'listed_in', 'description',\n",
       "       'Unnamed: 12', 'Unnamed: 13', 'Unnamed: 14', 'Unnamed: 15',\n",
       "       'Unnamed: 16', 'Unnamed: 17', 'Unnamed: 18', 'Unnamed: 19',\n",
       "       'Unnamed: 20', 'Unnamed: 21', 'Unnamed: 22', 'Unnamed: 23',\n",
       "       'Unnamed: 24', 'Unnamed: 25'],\n",
       "      dtype='object')"
      ]
     },
     "execution_count": 4,
     "metadata": {},
     "output_type": "execute_result"
    }
   ],
   "execution_count": 4
  },
  {
   "cell_type": "code",
   "source": "# Columns from index 12 and afterwards are all Unnamed and Blank columns, so we have removed them in beginning.\ndata.drop(data.columns[12:], axis=1, inplace=True)",
   "metadata": {
    "editable": false,
    "execution": {
     "iopub.status.busy": "2024-06-05T04:48:55.663045Z",
     "iopub.execute_input": "2024-06-05T04:48:55.664070Z",
     "iopub.status.idle": "2024-06-05T04:48:55.676867Z",
     "shell.execute_reply.started": "2024-06-05T04:48:55.664018Z",
     "shell.execute_reply": "2024-06-05T04:48:55.675268Z"
    },
    "trusted": true,
    "ExecuteTime": {
     "end_time": "2024-06-06T01:35:01.688508Z",
     "start_time": "2024-06-06T01:35:01.686124Z"
    }
   },
   "outputs": [],
   "execution_count": 5
  },
  {
   "cell_type": "code",
   "source": "data.info()",
   "metadata": {
    "editable": false,
    "execution": {
     "iopub.status.busy": "2024-06-05T04:48:55.679765Z",
     "iopub.execute_input": "2024-06-05T04:48:55.680968Z",
     "iopub.status.idle": "2024-06-05T04:48:55.728535Z",
     "shell.execute_reply.started": "2024-06-05T04:48:55.680913Z",
     "shell.execute_reply": "2024-06-05T04:48:55.727299Z"
    },
    "trusted": true,
    "ExecuteTime": {
     "end_time": "2024-06-06T01:35:01.705584Z",
     "start_time": "2024-06-06T01:35:01.689132Z"
    }
   },
   "outputs": [
    {
     "name": "stdout",
     "output_type": "stream",
     "text": [
      "<class 'pandas.core.frame.DataFrame'>\n",
      "RangeIndex: 8809 entries, 0 to 8808\n",
      "Data columns (total 12 columns):\n",
      " #   Column        Non-Null Count  Dtype \n",
      "---  ------        --------------  ----- \n",
      " 0   show_id       8809 non-null   object\n",
      " 1   type          8809 non-null   object\n",
      " 2   title         8809 non-null   object\n",
      " 3   director      6175 non-null   object\n",
      " 4   cast          7984 non-null   object\n",
      " 5   country       7978 non-null   object\n",
      " 6   date_added    8799 non-null   object\n",
      " 7   release_year  8809 non-null   int64 \n",
      " 8   rating        8805 non-null   object\n",
      " 9   duration      8806 non-null   object\n",
      " 10  listed_in     8809 non-null   object\n",
      " 11  description   8809 non-null   object\n",
      "dtypes: int64(1), object(11)\n",
      "memory usage: 826.0+ KB\n"
     ]
    }
   ],
   "execution_count": 6
  },
  {
   "cell_type": "code",
   "source": "data.describe(exclude='number').T",
   "metadata": {
    "editable": false,
    "execution": {
     "iopub.status.busy": "2024-06-05T04:48:55.730365Z",
     "iopub.execute_input": "2024-06-05T04:48:55.731870Z",
     "iopub.status.idle": "2024-06-05T04:48:55.864819Z",
     "shell.execute_reply.started": "2024-06-05T04:48:55.731821Z",
     "shell.execute_reply": "2024-06-05T04:48:55.863187Z"
    },
    "trusted": true,
    "ExecuteTime": {
     "end_time": "2024-06-06T01:35:01.729435Z",
     "start_time": "2024-06-06T01:35:01.706125Z"
    }
   },
   "outputs": [
    {
     "data": {
      "text/plain": [
       "            count unique                                                top  \\\n",
       "show_id      8809   8809                                                 s1   \n",
       "type         8809      2                                              Movie   \n",
       "title        8809   8806                                             22-Jul   \n",
       "director     6175   4529                                      Rajiv Chilaka   \n",
       "cast         7984   7694                                 David Attenborough   \n",
       "country      7978    748                                      United States   \n",
       "date_added   8799   1768                                    January 1, 2020   \n",
       "rating       8805     18                                              TV-MA   \n",
       "duration     8806    220                                           1 Season   \n",
       "listed_in    8809    516                       Dramas, International Movies   \n",
       "description  8809   8777  Paranormal activity at a lush, abandoned prope...   \n",
       "\n",
       "             freq  \n",
       "show_id         1  \n",
       "type         6132  \n",
       "title           2  \n",
       "director       19  \n",
       "cast           19  \n",
       "country      2819  \n",
       "date_added    109  \n",
       "rating       3208  \n",
       "duration     1794  \n",
       "listed_in     362  \n",
       "description     4  "
      ],
      "text/html": [
       "<div>\n",
       "<style scoped>\n",
       "    .dataframe tbody tr th:only-of-type {\n",
       "        vertical-align: middle;\n",
       "    }\n",
       "\n",
       "    .dataframe tbody tr th {\n",
       "        vertical-align: top;\n",
       "    }\n",
       "\n",
       "    .dataframe thead th {\n",
       "        text-align: right;\n",
       "    }\n",
       "</style>\n",
       "<table border=\"1\" class=\"dataframe\">\n",
       "  <thead>\n",
       "    <tr style=\"text-align: right;\">\n",
       "      <th></th>\n",
       "      <th>count</th>\n",
       "      <th>unique</th>\n",
       "      <th>top</th>\n",
       "      <th>freq</th>\n",
       "    </tr>\n",
       "  </thead>\n",
       "  <tbody>\n",
       "    <tr>\n",
       "      <th>show_id</th>\n",
       "      <td>8809</td>\n",
       "      <td>8809</td>\n",
       "      <td>s1</td>\n",
       "      <td>1</td>\n",
       "    </tr>\n",
       "    <tr>\n",
       "      <th>type</th>\n",
       "      <td>8809</td>\n",
       "      <td>2</td>\n",
       "      <td>Movie</td>\n",
       "      <td>6132</td>\n",
       "    </tr>\n",
       "    <tr>\n",
       "      <th>title</th>\n",
       "      <td>8809</td>\n",
       "      <td>8806</td>\n",
       "      <td>22-Jul</td>\n",
       "      <td>2</td>\n",
       "    </tr>\n",
       "    <tr>\n",
       "      <th>director</th>\n",
       "      <td>6175</td>\n",
       "      <td>4529</td>\n",
       "      <td>Rajiv Chilaka</td>\n",
       "      <td>19</td>\n",
       "    </tr>\n",
       "    <tr>\n",
       "      <th>cast</th>\n",
       "      <td>7984</td>\n",
       "      <td>7694</td>\n",
       "      <td>David Attenborough</td>\n",
       "      <td>19</td>\n",
       "    </tr>\n",
       "    <tr>\n",
       "      <th>country</th>\n",
       "      <td>7978</td>\n",
       "      <td>748</td>\n",
       "      <td>United States</td>\n",
       "      <td>2819</td>\n",
       "    </tr>\n",
       "    <tr>\n",
       "      <th>date_added</th>\n",
       "      <td>8799</td>\n",
       "      <td>1768</td>\n",
       "      <td>January 1, 2020</td>\n",
       "      <td>109</td>\n",
       "    </tr>\n",
       "    <tr>\n",
       "      <th>rating</th>\n",
       "      <td>8805</td>\n",
       "      <td>18</td>\n",
       "      <td>TV-MA</td>\n",
       "      <td>3208</td>\n",
       "    </tr>\n",
       "    <tr>\n",
       "      <th>duration</th>\n",
       "      <td>8806</td>\n",
       "      <td>220</td>\n",
       "      <td>1 Season</td>\n",
       "      <td>1794</td>\n",
       "    </tr>\n",
       "    <tr>\n",
       "      <th>listed_in</th>\n",
       "      <td>8809</td>\n",
       "      <td>516</td>\n",
       "      <td>Dramas, International Movies</td>\n",
       "      <td>362</td>\n",
       "    </tr>\n",
       "    <tr>\n",
       "      <th>description</th>\n",
       "      <td>8809</td>\n",
       "      <td>8777</td>\n",
       "      <td>Paranormal activity at a lush, abandoned prope...</td>\n",
       "      <td>4</td>\n",
       "    </tr>\n",
       "  </tbody>\n",
       "</table>\n",
       "</div>"
      ]
     },
     "execution_count": 7,
     "metadata": {},
     "output_type": "execute_result"
    }
   ],
   "execution_count": 7
  },
  {
   "cell_type": "code",
   "source": "data.describe().T",
   "metadata": {
    "editable": false,
    "execution": {
     "iopub.status.busy": "2024-06-05T04:48:55.866922Z",
     "iopub.execute_input": "2024-06-05T04:48:55.867862Z",
     "iopub.status.idle": "2024-06-05T04:48:55.899645Z",
     "shell.execute_reply.started": "2024-06-05T04:48:55.867813Z",
     "shell.execute_reply": "2024-06-05T04:48:55.898315Z"
    },
    "trusted": true,
    "ExecuteTime": {
     "end_time": "2024-06-06T01:35:01.739495Z",
     "start_time": "2024-06-06T01:35:01.730633Z"
    }
   },
   "outputs": [
    {
     "data": {
      "text/plain": [
       "               count         mean       std     min     25%     50%     75%  \\\n",
       "release_year  8809.0  2014.181292  8.818932  1925.0  2013.0  2017.0  2019.0   \n",
       "\n",
       "                 max  \n",
       "release_year  2024.0  "
      ],
      "text/html": [
       "<div>\n",
       "<style scoped>\n",
       "    .dataframe tbody tr th:only-of-type {\n",
       "        vertical-align: middle;\n",
       "    }\n",
       "\n",
       "    .dataframe tbody tr th {\n",
       "        vertical-align: top;\n",
       "    }\n",
       "\n",
       "    .dataframe thead th {\n",
       "        text-align: right;\n",
       "    }\n",
       "</style>\n",
       "<table border=\"1\" class=\"dataframe\">\n",
       "  <thead>\n",
       "    <tr style=\"text-align: right;\">\n",
       "      <th></th>\n",
       "      <th>count</th>\n",
       "      <th>mean</th>\n",
       "      <th>std</th>\n",
       "      <th>min</th>\n",
       "      <th>25%</th>\n",
       "      <th>50%</th>\n",
       "      <th>75%</th>\n",
       "      <th>max</th>\n",
       "    </tr>\n",
       "  </thead>\n",
       "  <tbody>\n",
       "    <tr>\n",
       "      <th>release_year</th>\n",
       "      <td>8809.0</td>\n",
       "      <td>2014.181292</td>\n",
       "      <td>8.818932</td>\n",
       "      <td>1925.0</td>\n",
       "      <td>2013.0</td>\n",
       "      <td>2017.0</td>\n",
       "      <td>2019.0</td>\n",
       "      <td>2024.0</td>\n",
       "    </tr>\n",
       "  </tbody>\n",
       "</table>\n",
       "</div>"
      ]
     },
     "execution_count": 8,
     "metadata": {},
     "output_type": "execute_result"
    }
   ],
   "execution_count": 8
  },
  {
   "cell_type": "markdown",
   "source": "## Data Preprocessing",
   "metadata": {
    "editable": false
   }
  },
  {
   "cell_type": "markdown",
   "source": "### Missing Values",
   "metadata": {
    "editable": false
   }
  },
  {
   "cell_type": "code",
   "source": "data.isnull().sum()/len(data)*100",
   "metadata": {
    "editable": false,
    "execution": {
     "iopub.status.busy": "2024-06-05T04:48:55.901407Z",
     "iopub.execute_input": "2024-06-05T04:48:55.901842Z",
     "iopub.status.idle": "2024-06-05T04:48:55.932807Z",
     "shell.execute_reply.started": "2024-06-05T04:48:55.901804Z",
     "shell.execute_reply": "2024-06-05T04:48:55.931307Z"
    },
    "trusted": true,
    "ExecuteTime": {
     "end_time": "2024-06-06T01:35:01.752819Z",
     "start_time": "2024-06-06T01:35:01.741221Z"
    }
   },
   "outputs": [
    {
     "data": {
      "text/plain": [
       "show_id          0.000000\n",
       "type             0.000000\n",
       "title            0.000000\n",
       "director        29.901237\n",
       "cast             9.365422\n",
       "country          9.433534\n",
       "date_added       0.113520\n",
       "release_year     0.000000\n",
       "rating           0.045408\n",
       "duration         0.034056\n",
       "listed_in        0.000000\n",
       "description      0.000000\n",
       "dtype: float64"
      ]
     },
     "execution_count": 9,
     "metadata": {},
     "output_type": "execute_result"
    }
   ],
   "execution_count": 9
  },
  {
   "cell_type": "markdown",
   "source": "*We will first fill missing values of Director, Cast, and Country column with 'Unknown' as it is just not correct to remove them or checking each values over internet.*",
   "metadata": {
    "editable": false
   }
  },
  {
   "cell_type": "code",
   "source": "data['director'].fillna('Unknown', inplace=True)\ndata['cast'].fillna('Unknown', inplace=True)\ndata['country'].fillna('Unknown', inplace=True)",
   "metadata": {
    "editable": false,
    "execution": {
     "iopub.status.busy": "2024-06-05T04:48:55.935230Z",
     "iopub.execute_input": "2024-06-05T04:48:55.936489Z",
     "iopub.status.idle": "2024-06-05T04:48:55.962790Z",
     "shell.execute_reply.started": "2024-06-05T04:48:55.936334Z",
     "shell.execute_reply": "2024-06-05T04:48:55.961104Z"
    },
    "trusted": true,
    "ExecuteTime": {
     "end_time": "2024-06-06T01:35:01.758544Z",
     "start_time": "2024-06-06T01:35:01.755199Z"
    }
   },
   "outputs": [],
   "execution_count": 10
  },
  {
   "cell_type": "code",
   "source": "a = data[data['date_added'].isnull() == True]['release_year'].values\n\nfor i in range(10):\n    np.random.seed(42)\n    data['date_added'].fillna(str(a[i]) + '-' + str(np.random.randint(1,12 )) + '-' + str(np.random.randint(1,28)), inplace=True)",
   "metadata": {
    "editable": false,
    "execution": {
     "iopub.status.busy": "2024-06-05T04:48:55.965228Z",
     "iopub.execute_input": "2024-06-05T04:48:55.967640Z",
     "iopub.status.idle": "2024-06-05T04:48:56.000741Z",
     "shell.execute_reply.started": "2024-06-05T04:48:55.967382Z",
     "shell.execute_reply": "2024-06-05T04:48:55.998874Z"
    },
    "trusted": true,
    "ExecuteTime": {
     "end_time": "2024-06-06T01:35:01.766099Z",
     "start_time": "2024-06-06T01:35:01.759222Z"
    }
   },
   "outputs": [],
   "execution_count": 11
  },
  {
   "cell_type": "code",
   "source": "val = ['R','TV-MA', 'TV-MA', 'R']\nfor i in range(data['rating'].isnull().sum()):\n    data['rating'].fillna(val[i], inplace=True)",
   "metadata": {
    "editable": false,
    "execution": {
     "iopub.status.busy": "2024-06-05T04:48:56.003094Z",
     "iopub.execute_input": "2024-06-05T04:48:56.003723Z",
     "iopub.status.idle": "2024-06-05T04:48:56.032453Z",
     "shell.execute_reply.started": "2024-06-05T04:48:56.003663Z",
     "shell.execute_reply": "2024-06-05T04:48:56.030985Z"
    },
    "trusted": true,
    "ExecuteTime": {
     "end_time": "2024-06-06T01:35:01.771879Z",
     "start_time": "2024-06-06T01:35:01.767545Z"
    }
   },
   "outputs": [],
   "execution_count": 12
  },
  {
   "cell_type": "code",
   "source": "val = ['74 min', '84 min', '66 min']\ndata[data['duration'].isnull()]['rating'] = 'PG-13'\n\nfor i in range(data['duration'].isnull().sum()):\n    data['duration'].fillna(val[i], inplace=True)",
   "metadata": {
    "editable": false,
    "execution": {
     "iopub.status.busy": "2024-06-05T04:48:56.038895Z",
     "iopub.execute_input": "2024-06-05T04:48:56.039550Z",
     "iopub.status.idle": "2024-06-05T04:48:56.065184Z",
     "shell.execute_reply.started": "2024-06-05T04:48:56.039499Z",
     "shell.execute_reply": "2024-06-05T04:48:56.063447Z"
    },
    "trusted": true,
    "ExecuteTime": {
     "end_time": "2024-06-06T01:35:01.776202Z",
     "start_time": "2024-06-06T01:35:01.772518Z"
    }
   },
   "outputs": [],
   "execution_count": 13
  },
  {
   "cell_type": "code",
   "source": "data.isnull().sum()",
   "metadata": {
    "editable": false,
    "execution": {
     "iopub.status.busy": "2024-06-05T04:48:56.067151Z",
     "iopub.execute_input": "2024-06-05T04:48:56.067615Z",
     "iopub.status.idle": "2024-06-05T04:48:56.107676Z",
     "shell.execute_reply.started": "2024-06-05T04:48:56.067572Z",
     "shell.execute_reply": "2024-06-05T04:48:56.106291Z"
    },
    "trusted": true,
    "ExecuteTime": {
     "end_time": "2024-06-06T01:35:01.790278Z",
     "start_time": "2024-06-06T01:35:01.776790Z"
    }
   },
   "outputs": [
    {
     "data": {
      "text/plain": [
       "show_id         0\n",
       "type            0\n",
       "title           0\n",
       "director        0\n",
       "cast            0\n",
       "country         0\n",
       "date_added      0\n",
       "release_year    0\n",
       "rating          0\n",
       "duration        0\n",
       "listed_in       0\n",
       "description     0\n",
       "dtype: int64"
      ]
     },
     "execution_count": 14,
     "metadata": {},
     "output_type": "execute_result"
    }
   ],
   "execution_count": 14
  },
  {
   "cell_type": "markdown",
   "source": "### Data Transformation",
   "metadata": {
    "editable": false
   }
  },
  {
   "cell_type": "code",
   "source": "data['date_added'] = pd.to_datetime(data['date_added'], format='mixed')\ndata['year_added'] = data['date_added'].dt.year",
   "metadata": {
    "editable": false,
    "execution": {
     "iopub.status.busy": "2024-06-05T04:48:56.109463Z",
     "iopub.execute_input": "2024-06-05T04:48:56.109862Z",
     "iopub.status.idle": "2024-06-05T04:48:56.352201Z",
     "shell.execute_reply.started": "2024-06-05T04:48:56.109829Z",
     "shell.execute_reply": "2024-06-05T04:48:56.350937Z"
    },
    "trusted": true,
    "ExecuteTime": {
     "end_time": "2024-06-06T01:35:01.986945Z",
     "start_time": "2024-06-06T01:35:01.791405Z"
    }
   },
   "outputs": [
    {
     "ename": "ValueError",
     "evalue": "time data 'September 25, 2021' does not match format 'mixed' (match)",
     "output_type": "error",
     "traceback": [
      "\u001B[0;31m---------------------------------------------------------------------------\u001B[0m",
      "\u001B[0;31mValueError\u001B[0m                                Traceback (most recent call last)",
      "Cell \u001B[0;32mIn[15], line 1\u001B[0m\n\u001B[0;32m----> 1\u001B[0m data[\u001B[38;5;124m'\u001B[39m\u001B[38;5;124mdate_added\u001B[39m\u001B[38;5;124m'\u001B[39m] \u001B[38;5;241m=\u001B[39m \u001B[43mpd\u001B[49m\u001B[38;5;241;43m.\u001B[39;49m\u001B[43mto_datetime\u001B[49m\u001B[43m(\u001B[49m\u001B[43mdata\u001B[49m\u001B[43m[\u001B[49m\u001B[38;5;124;43m'\u001B[39;49m\u001B[38;5;124;43mdate_added\u001B[39;49m\u001B[38;5;124;43m'\u001B[39;49m\u001B[43m]\u001B[49m\u001B[43m,\u001B[49m\u001B[43m \u001B[49m\u001B[38;5;28;43mformat\u001B[39;49m\u001B[38;5;241;43m=\u001B[39;49m\u001B[38;5;124;43m'\u001B[39;49m\u001B[38;5;124;43mmixed\u001B[39;49m\u001B[38;5;124;43m'\u001B[39;49m\u001B[43m)\u001B[49m\n\u001B[1;32m      2\u001B[0m data[\u001B[38;5;124m'\u001B[39m\u001B[38;5;124myear_added\u001B[39m\u001B[38;5;124m'\u001B[39m] \u001B[38;5;241m=\u001B[39m data[\u001B[38;5;124m'\u001B[39m\u001B[38;5;124mdate_added\u001B[39m\u001B[38;5;124m'\u001B[39m]\u001B[38;5;241m.\u001B[39mdt\u001B[38;5;241m.\u001B[39myear\n",
      "File \u001B[0;32m~/workspace/data-playground/dp-env/lib/python3.12/site-packages/pandas/core/tools/datetimes.py:1064\u001B[0m, in \u001B[0;36mto_datetime\u001B[0;34m(arg, errors, dayfirst, yearfirst, utc, format, exact, unit, infer_datetime_format, origin, cache)\u001B[0m\n\u001B[1;32m   1062\u001B[0m             result \u001B[38;5;241m=\u001B[39m arg\u001B[38;5;241m.\u001B[39mtz_localize(tz)\n\u001B[1;32m   1063\u001B[0m \u001B[38;5;28;01melif\u001B[39;00m \u001B[38;5;28misinstance\u001B[39m(arg, ABCSeries):\n\u001B[0;32m-> 1064\u001B[0m     cache_array \u001B[38;5;241m=\u001B[39m \u001B[43m_maybe_cache\u001B[49m\u001B[43m(\u001B[49m\u001B[43marg\u001B[49m\u001B[43m,\u001B[49m\u001B[43m \u001B[49m\u001B[38;5;28;43mformat\u001B[39;49m\u001B[43m,\u001B[49m\u001B[43m \u001B[49m\u001B[43mcache\u001B[49m\u001B[43m,\u001B[49m\u001B[43m \u001B[49m\u001B[43mconvert_listlike\u001B[49m\u001B[43m)\u001B[49m\n\u001B[1;32m   1065\u001B[0m     \u001B[38;5;28;01mif\u001B[39;00m \u001B[38;5;129;01mnot\u001B[39;00m cache_array\u001B[38;5;241m.\u001B[39mempty:\n\u001B[1;32m   1066\u001B[0m         result \u001B[38;5;241m=\u001B[39m arg\u001B[38;5;241m.\u001B[39mmap(cache_array)\n",
      "File \u001B[0;32m~/workspace/data-playground/dp-env/lib/python3.12/site-packages/pandas/core/tools/datetimes.py:229\u001B[0m, in \u001B[0;36m_maybe_cache\u001B[0;34m(arg, format, cache, convert_listlike)\u001B[0m\n\u001B[1;32m    227\u001B[0m unique_dates \u001B[38;5;241m=\u001B[39m unique(arg)\n\u001B[1;32m    228\u001B[0m \u001B[38;5;28;01mif\u001B[39;00m \u001B[38;5;28mlen\u001B[39m(unique_dates) \u001B[38;5;241m<\u001B[39m \u001B[38;5;28mlen\u001B[39m(arg):\n\u001B[0;32m--> 229\u001B[0m     cache_dates \u001B[38;5;241m=\u001B[39m \u001B[43mconvert_listlike\u001B[49m\u001B[43m(\u001B[49m\u001B[43munique_dates\u001B[49m\u001B[43m,\u001B[49m\u001B[43m \u001B[49m\u001B[38;5;28;43mformat\u001B[39;49m\u001B[43m)\u001B[49m\n\u001B[1;32m    230\u001B[0m     \u001B[38;5;66;03m# GH#45319\u001B[39;00m\n\u001B[1;32m    231\u001B[0m     \u001B[38;5;28;01mtry\u001B[39;00m:\n",
      "File \u001B[0;32m~/workspace/data-playground/dp-env/lib/python3.12/site-packages/pandas/core/tools/datetimes.py:430\u001B[0m, in \u001B[0;36m_convert_listlike_datetimes\u001B[0;34m(arg, format, name, tz, unit, errors, infer_datetime_format, dayfirst, yearfirst, exact)\u001B[0m\n\u001B[1;32m    427\u001B[0m         \u001B[38;5;28mformat\u001B[39m \u001B[38;5;241m=\u001B[39m \u001B[38;5;28;01mNone\u001B[39;00m\n\u001B[1;32m    429\u001B[0m \u001B[38;5;28;01mif\u001B[39;00m \u001B[38;5;28mformat\u001B[39m \u001B[38;5;129;01mis\u001B[39;00m \u001B[38;5;129;01mnot\u001B[39;00m \u001B[38;5;28;01mNone\u001B[39;00m:\n\u001B[0;32m--> 430\u001B[0m     res \u001B[38;5;241m=\u001B[39m \u001B[43m_to_datetime_with_format\u001B[49m\u001B[43m(\u001B[49m\n\u001B[1;32m    431\u001B[0m \u001B[43m        \u001B[49m\u001B[43marg\u001B[49m\u001B[43m,\u001B[49m\u001B[43m \u001B[49m\u001B[43morig_arg\u001B[49m\u001B[43m,\u001B[49m\u001B[43m \u001B[49m\u001B[43mname\u001B[49m\u001B[43m,\u001B[49m\u001B[43m \u001B[49m\u001B[43mtz\u001B[49m\u001B[43m,\u001B[49m\u001B[43m \u001B[49m\u001B[38;5;28;43mformat\u001B[39;49m\u001B[43m,\u001B[49m\u001B[43m \u001B[49m\u001B[43mexact\u001B[49m\u001B[43m,\u001B[49m\u001B[43m \u001B[49m\u001B[43merrors\u001B[49m\u001B[43m,\u001B[49m\u001B[43m \u001B[49m\u001B[43minfer_datetime_format\u001B[49m\n\u001B[1;32m    432\u001B[0m \u001B[43m    \u001B[49m\u001B[43m)\u001B[49m\n\u001B[1;32m    433\u001B[0m     \u001B[38;5;28;01mif\u001B[39;00m res \u001B[38;5;129;01mis\u001B[39;00m \u001B[38;5;129;01mnot\u001B[39;00m \u001B[38;5;28;01mNone\u001B[39;00m:\n\u001B[1;32m    434\u001B[0m         \u001B[38;5;28;01mreturn\u001B[39;00m res\n",
      "File \u001B[0;32m~/workspace/data-playground/dp-env/lib/python3.12/site-packages/pandas/core/tools/datetimes.py:538\u001B[0m, in \u001B[0;36m_to_datetime_with_format\u001B[0;34m(arg, orig_arg, name, tz, fmt, exact, errors, infer_datetime_format)\u001B[0m\n\u001B[1;32m    535\u001B[0m         \u001B[38;5;28;01mreturn\u001B[39;00m _box_as_indexlike(result, utc\u001B[38;5;241m=\u001B[39mutc, name\u001B[38;5;241m=\u001B[39mname)\n\u001B[1;32m    537\u001B[0m \u001B[38;5;66;03m# fallback\u001B[39;00m\n\u001B[0;32m--> 538\u001B[0m res \u001B[38;5;241m=\u001B[39m \u001B[43m_array_strptime_with_fallback\u001B[49m\u001B[43m(\u001B[49m\n\u001B[1;32m    539\u001B[0m \u001B[43m    \u001B[49m\u001B[43marg\u001B[49m\u001B[43m,\u001B[49m\u001B[43m \u001B[49m\u001B[43mname\u001B[49m\u001B[43m,\u001B[49m\u001B[43m \u001B[49m\u001B[43mtz\u001B[49m\u001B[43m,\u001B[49m\u001B[43m \u001B[49m\u001B[43mfmt\u001B[49m\u001B[43m,\u001B[49m\u001B[43m \u001B[49m\u001B[43mexact\u001B[49m\u001B[43m,\u001B[49m\u001B[43m \u001B[49m\u001B[43merrors\u001B[49m\u001B[43m,\u001B[49m\u001B[43m \u001B[49m\u001B[43minfer_datetime_format\u001B[49m\n\u001B[1;32m    540\u001B[0m \u001B[43m\u001B[49m\u001B[43m)\u001B[49m\n\u001B[1;32m    541\u001B[0m \u001B[38;5;28;01mreturn\u001B[39;00m res\n",
      "File \u001B[0;32m~/workspace/data-playground/dp-env/lib/python3.12/site-packages/pandas/core/tools/datetimes.py:473\u001B[0m, in \u001B[0;36m_array_strptime_with_fallback\u001B[0;34m(arg, name, tz, fmt, exact, errors, infer_datetime_format)\u001B[0m\n\u001B[1;32m    470\u001B[0m utc \u001B[38;5;241m=\u001B[39m tz \u001B[38;5;241m==\u001B[39m \u001B[38;5;124m\"\u001B[39m\u001B[38;5;124mutc\u001B[39m\u001B[38;5;124m\"\u001B[39m\n\u001B[1;32m    472\u001B[0m \u001B[38;5;28;01mtry\u001B[39;00m:\n\u001B[0;32m--> 473\u001B[0m     result, timezones \u001B[38;5;241m=\u001B[39m \u001B[43marray_strptime\u001B[49m\u001B[43m(\u001B[49m\u001B[43marg\u001B[49m\u001B[43m,\u001B[49m\u001B[43m \u001B[49m\u001B[43mfmt\u001B[49m\u001B[43m,\u001B[49m\u001B[43m \u001B[49m\u001B[43mexact\u001B[49m\u001B[38;5;241;43m=\u001B[39;49m\u001B[43mexact\u001B[49m\u001B[43m,\u001B[49m\u001B[43m \u001B[49m\u001B[43merrors\u001B[49m\u001B[38;5;241;43m=\u001B[39;49m\u001B[43merrors\u001B[49m\u001B[43m)\u001B[49m\n\u001B[1;32m    474\u001B[0m \u001B[38;5;28;01mexcept\u001B[39;00m OutOfBoundsDatetime:\n\u001B[1;32m    475\u001B[0m     \u001B[38;5;28;01mif\u001B[39;00m errors \u001B[38;5;241m==\u001B[39m \u001B[38;5;124m\"\u001B[39m\u001B[38;5;124mraise\u001B[39m\u001B[38;5;124m\"\u001B[39m:\n",
      "File \u001B[0;32m~/workspace/data-playground/dp-env/lib/python3.12/site-packages/pandas/_libs/tslibs/strptime.pyx:150\u001B[0m, in \u001B[0;36mpandas._libs.tslibs.strptime.array_strptime\u001B[0;34m()\u001B[0m\n",
      "\u001B[0;31mValueError\u001B[0m: time data 'September 25, 2021' does not match format 'mixed' (match)"
     ]
    }
   ],
   "execution_count": 15
  },
  {
   "cell_type": "code",
   "source": "data.info()",
   "metadata": {
    "editable": false,
    "execution": {
     "iopub.status.busy": "2024-06-05T04:48:56.353748Z",
     "iopub.execute_input": "2024-06-05T04:48:56.354161Z",
     "iopub.status.idle": "2024-06-05T04:48:56.385182Z",
     "shell.execute_reply.started": "2024-06-05T04:48:56.354096Z",
     "shell.execute_reply": "2024-06-05T04:48:56.383661Z"
    },
    "trusted": true,
    "ExecuteTime": {
     "end_time": "2024-06-06T01:35:01.988441Z",
     "start_time": "2024-06-06T01:35:01.988292Z"
    }
   },
   "outputs": [],
   "execution_count": null
  },
  {
   "cell_type": "markdown",
   "source": "## Data Visualization",
   "metadata": {
    "editable": false
   }
  },
  {
   "cell_type": "code",
   "source": "def countplot(col, label, title, rotation=0, size=(12,6)):\n    plt.figure(figsize=size)\n    plt.title(title, fontsize=20)\n    ax = sns.countplot(x=data[col], palette='viridis')\n    ax.set_xlabel(label, fontsize=16)\n    plt.xticks(rotation=rotation)\n    ax.set_ylabel('Count', fontsize=16)\n    for lab in ax.containers:\n        ax.bar_label(lab)",
   "metadata": {
    "editable": false,
    "execution": {
     "iopub.status.busy": "2024-06-05T04:48:56.386892Z",
     "iopub.execute_input": "2024-06-05T04:48:56.387345Z",
     "iopub.status.idle": "2024-06-05T04:48:56.396919Z",
     "shell.execute_reply.started": "2024-06-05T04:48:56.387298Z",
     "shell.execute_reply": "2024-06-05T04:48:56.395451Z"
    },
    "trusted": true
   },
   "outputs": [],
   "execution_count": null
  },
  {
   "cell_type": "code",
   "source": "countplot('type', 'Type', 'Distribution of Content Type')",
   "metadata": {
    "editable": false,
    "execution": {
     "iopub.status.busy": "2024-06-05T04:48:56.398789Z",
     "iopub.execute_input": "2024-06-05T04:48:56.399370Z",
     "iopub.status.idle": "2024-06-05T04:48:56.965721Z",
     "shell.execute_reply.started": "2024-06-05T04:48:56.399323Z",
     "shell.execute_reply": "2024-06-05T04:48:56.964209Z"
    },
    "trusted": true
   },
   "outputs": [],
   "execution_count": null
  },
  {
   "cell_type": "code",
   "source": "countplot('rating', 'Rating', 'Distribution based on Rating', rotation=90)",
   "metadata": {
    "editable": false,
    "execution": {
     "iopub.status.busy": "2024-06-05T04:48:56.967842Z",
     "iopub.execute_input": "2024-06-05T04:48:56.968319Z",
     "iopub.status.idle": "2024-06-05T04:48:57.614295Z",
     "shell.execute_reply.started": "2024-06-05T04:48:56.968277Z",
     "shell.execute_reply": "2024-06-05T04:48:57.612790Z"
    },
    "trusted": true
   },
   "outputs": [],
   "execution_count": null
  },
  {
   "cell_type": "code",
   "source": "top_10_country = data['country'].value_counts().head(11)\ntop_10_country.drop('Unknown')\nplt.figure(figsize=(12,6))\nplt.title('Top 10 Countries by Content Produced', fontsize=20)\nax = sns.barplot(x=top_10_country.index, y=top_10_country, palette='viridis')\nplt.xlabel('Top 10 Countries', fontsize=16)\nplt.xticks(rotation=45)\nplt.ylabel('Count', fontsize=16)\nfor lab in ax.containers:\n    ax.bar_label(lab)",
   "metadata": {
    "editable": false,
    "execution": {
     "iopub.status.busy": "2024-06-05T04:48:57.616057Z",
     "iopub.execute_input": "2024-06-05T04:48:57.616597Z",
     "iopub.status.idle": "2024-06-05T04:48:58.294675Z",
     "shell.execute_reply.started": "2024-06-05T04:48:57.616548Z",
     "shell.execute_reply": "2024-06-05T04:48:58.293241Z"
    },
    "trusted": true
   },
   "outputs": [],
   "execution_count": null
  },
  {
   "cell_type": "code",
   "source": "top_10_country = data[data['type'] == 'Movie']['country'].value_counts().head(11)\ntop_10_country = top_10_country.drop('Unknown')\nplt.figure(figsize=(12,6))\nplt.title('Top 10 Coutries by Movies Produced', fontsize=20)\nax = sns.barplot(x=top_10_country.index, y=top_10_country, palette='viridis')\nplt.xlabel('Top 10 Countries', fontsize=16)\nplt.xticks(rotation=45)\nplt.ylabel('Count', fontsize=16)\nfor lab in ax.containers:\n    ax.bar_label(lab)",
   "metadata": {
    "editable": false,
    "execution": {
     "iopub.status.busy": "2024-06-05T04:48:58.296768Z",
     "iopub.execute_input": "2024-06-05T04:48:58.297340Z",
     "iopub.status.idle": "2024-06-05T04:48:58.877256Z",
     "shell.execute_reply.started": "2024-06-05T04:48:58.297288Z",
     "shell.execute_reply": "2024-06-05T04:48:58.875838Z"
    },
    "trusted": true
   },
   "outputs": [],
   "execution_count": null
  },
  {
   "cell_type": "code",
   "source": "top_10_country = data[data['type'] == 'TV Show']['country'].value_counts().head(11)\ntop_10_country = top_10_country.drop('Unknown')\nplt.figure(figsize=(12,6))\nplt.title('Top 10 Coutries by TV Shows Created', fontsize=20)\nax = sns.barplot(x=top_10_country.index, y=top_10_country, palette='viridis')\nplt.xlabel('Top 10 Countries', fontsize=16)\nplt.xticks(rotation=45)\nplt.ylabel('Count', fontsize=16)\nfor lab in ax.containers:\n    ax.bar_label(lab)",
   "metadata": {
    "editable": false,
    "execution": {
     "iopub.status.busy": "2024-06-05T04:48:58.879768Z",
     "iopub.execute_input": "2024-06-05T04:48:58.880387Z",
     "iopub.status.idle": "2024-06-05T04:48:59.434880Z",
     "shell.execute_reply.started": "2024-06-05T04:48:58.880328Z",
     "shell.execute_reply": "2024-06-05T04:48:59.433394Z"
    },
    "trusted": true
   },
   "outputs": [],
   "execution_count": null
  },
  {
   "cell_type": "code",
   "source": "content_type = data.groupby(['release_year', 'type']).size().unstack(fill_value=0)\ncontent_type['Total'] = content_type['Movie'] + content_type['TV Show']\ncontent_type = content_type.reset_index()\n\nplt.figure(figsize=(18,6))\nplt.title('Movie, TV Shows and Total Released Each Year', fontsize=20)\nplt.plot(content_type['release_year'], content_type['Movie'], label='Movie', color='r', alpha=0.5)\nplt.plot(content_type['release_year'], content_type['TV Show'], label='TV Show', color='g', alpha=0.5)\nplt.plot(content_type['release_year'], content_type['Total'], label='Total', color='b', alpha=0.5)\nplt.xlabel('Release Year', fontsize=16)\nplt.ylabel('Count', fontsize=16)\nplt.legend(loc='upper left')",
   "metadata": {
    "editable": false,
    "execution": {
     "iopub.status.busy": "2024-06-05T04:48:59.436954Z",
     "iopub.execute_input": "2024-06-05T04:48:59.437366Z",
     "iopub.status.idle": "2024-06-05T04:48:59.954068Z",
     "shell.execute_reply.started": "2024-06-05T04:48:59.437329Z",
     "shell.execute_reply": "2024-06-05T04:48:59.952392Z"
    },
    "trusted": true
   },
   "outputs": [],
   "execution_count": null
  },
  {
   "cell_type": "code",
   "source": "shows_added = data.groupby(['year_added', 'type']).size().unstack(fill_value=0)\nshows_added = shows_added.reset_index()\nshows_added = shows_added.melt(id_vars='year_added', var_name='Type', value_name='Count')\n\nplt.figure(figsize=(24,6))\nplt.title('Content Added to Netflix by Year and Content Type', fontsize=20)\nax = sns.barplot(x=shows_added['year_added'], y=shows_added['Count'], hue=shows_added['Type'], palette='viridis')\nplt.xlabel('Year Content Added to Netflix', fontsize=16)\nplt.xticks(rotation=45)\nplt.ylabel('Count', fontsize=16)\nfor lab in ax.containers:\n    ax.bar_label(lab)",
   "metadata": {
    "editable": false,
    "execution": {
     "iopub.status.busy": "2024-06-05T04:48:59.956330Z",
     "iopub.execute_input": "2024-06-05T04:48:59.956885Z",
     "iopub.status.idle": "2024-06-05T04:49:00.846455Z",
     "shell.execute_reply.started": "2024-06-05T04:48:59.956838Z",
     "shell.execute_reply": "2024-06-05T04:49:00.844651Z"
    },
    "trusted": true
   },
   "outputs": [],
   "execution_count": null
  },
  {
   "cell_type": "code",
   "source": "movies = data[data['type'] == 'Movie']\nmovies['duration'] = movies['duration'].str.replace(' min', '').astype(int)\navg_duration = round(np.mean(movies['duration']),2)\n\nplt.figure(figsize=(12,6))\nplt.title('Movies Duration on Netflix', fontsize=20)\nsns.histplot(movies['duration'], kde=True)\nplt.axvline(x=avg_duration, color='#ff006e', linestyle='--', label=f'Average Duration: {avg_duration:.2f} min')\nplt.xlabel('Movie Duration', fontsize=16)\nplt.ylabel('Movie Count', fontsize=16)\nplt.legend()\nplt.grid(True, linestyle='--', alpha=0.6)\nplt.tight_layout()",
   "metadata": {
    "editable": false,
    "execution": {
     "iopub.status.busy": "2024-06-05T04:49:00.848537Z",
     "iopub.execute_input": "2024-06-05T04:49:00.849088Z",
     "iopub.status.idle": "2024-06-05T04:49:01.928818Z",
     "shell.execute_reply.started": "2024-06-05T04:49:00.849042Z",
     "shell.execute_reply": "2024-06-05T04:49:01.927245Z"
    },
    "trusted": true
   },
   "outputs": [],
   "execution_count": null
  },
  {
   "cell_type": "code",
   "source": "shows = data[data['type'] == 'TV Show']\nshows['duration'] = shows['duration'].str.extract('(\\d+)').astype(int)\navg_show_duration = round(np.mean(shows['duration']),2)\n\nplt.figure(figsize=(12,6))\nplt.title('TV Shows Duration on Netflix', fontsize=16)\nsns.histplot(shows['duration'], bins=20 , color='midnightblue')\nplt.axvline(x=avg_show_duration, color='#ff006e', linestyle='--', label=f'Average Duration: {avg_show_duration:.2f} Seasons')\nplt.xlabel('TV Show Duration', fontsize=16)\nplt.ylabel('TV Show Count', fontsize=16)\nplt.legend()\nplt.grid(True, linestyle='--', alpha=0.6)\nplt.tight_layout()",
   "metadata": {
    "editable": false,
    "execution": {
     "iopub.status.busy": "2024-06-05T04:49:01.930620Z",
     "iopub.execute_input": "2024-06-05T04:49:01.931035Z",
     "iopub.status.idle": "2024-06-05T04:49:02.634496Z",
     "shell.execute_reply.started": "2024-06-05T04:49:01.931000Z",
     "shell.execute_reply": "2024-06-05T04:49:02.633048Z"
    },
    "trusted": true
   },
   "outputs": [],
   "execution_count": null
  },
  {
   "cell_type": "code",
   "source": "top_genre = data['listed_in'].value_counts().head(10)\n\nplt.figure(figsize=(12,6))\nplt.title('Top 10 Genre', fontsize=20)\nax = sns.barplot(y=top_genre.index, x=top_genre, palette='viridis')\nplt.xlabel('Count', fontsize=16)\nplt.ylabel('Genre', fontsize=16)\nfor lab in ax.containers:\n    ax.bar_label(lab)",
   "metadata": {
    "editable": false,
    "execution": {
     "iopub.status.busy": "2024-06-05T04:49:02.636055Z",
     "iopub.execute_input": "2024-06-05T04:49:02.636508Z",
     "iopub.status.idle": "2024-06-05T04:49:03.177337Z",
     "shell.execute_reply.started": "2024-06-05T04:49:02.636463Z",
     "shell.execute_reply": "2024-06-05T04:49:03.176016Z"
    },
    "trusted": true
   },
   "outputs": [],
   "execution_count": null
  },
  {
   "cell_type": "markdown",
   "source": "## Report",
   "metadata": {
    "editable": false
   }
  },
  {
   "cell_type": "markdown",
   "source": "1. The dataset has 8809 rows and 26 columns of data. Out of those 26 columns 14 are totally blank and unncessary for the analysis. So we have removed them first.\n\n2. Now we have 12 columns which has one `integer` and rest are `object/string` type.\n\n3. We do have a lot of missing values in the dataset.\n\n    a. Director has 30% data missing which have been filled with 'Unknown'.\n\n    b. Cast and Country has 9% data missing which is also replaced by 'Unknown'.\n\n    c. Date Added has 0.12% data missing which I have filled using a combination of `release_year` for year and random values for month and date.\n\n    d. Rating has only 4 missing values which is filled as per the type of mode value of the content they are.\n    \n    e. Duration has 3 missing values and those are misplaced in `rating` column so I've taken those from rating fill in duration and then also fill the rating column.\n4. We have `date_added` column has object data type so I converted it into datetime data type. After that I've created a column `year_added` from the date_added column.\n5. The content type on Netflix data is more on Movies side, which is more than double of TV Shows.\n6. Our top movie rating is 'R' with 799 movies and 'TV-MA' for tv shows with 3208 shows under the rating.\n7. USA is our top country in content production with India being on second postion, but the difference is very high or almost 3 times of content produced from India on netflix.\n8. Breaking down further India is second country from Netflix adopt movies but UK becomes second for TV-show adoption, while USA keeps its position for both Movies and TV-shows.\n9. We have data for content from release year of 1940 but the most of the movies adopted by netflix released after 1990, whereas tv-shows adoption comes in trend after 2005.\n10. The highest content adopted by netflix comes from 2019. In that year netflix adopted 1424 movies and 592 tv-shows.\n11. Most of the movies on netflix have a duration between 70 min to 120 min but the avearge of movie duration is 100 min.\n12. TV-shows comes in seasons and they are maximum 1 season long but we do have 17 seasons long tv-show too.\n13. Drams & Internation Movies, Documentary, and Stand Up Comedy are top three genres which have more than 300 content under its belt.",
   "metadata": {
    "editable": false
   }
  },
  {
   "cell_type": "markdown",
   "source": "***This concludes our report on Netflix Exploratory Data Analysis. Please upvote the notebook and if you have any suggestion or question please let me know.***",
   "metadata": {
    "editable": false
   }
  }
 ]
}
